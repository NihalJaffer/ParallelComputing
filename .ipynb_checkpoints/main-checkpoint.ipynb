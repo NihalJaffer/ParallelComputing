{
 "cells": [
  {
   "cell_type": "code",
   "execution_count": null,
   "id": "04123877-2f35-4e9e-9a6c-6cf9086c683b",
   "metadata": {},
   "outputs": [],
   "source": [
    "import multiprocessing\n",
    "import random\n",
    "# import string\n",
    "import time\n",
    "import threading"
   ]
  },
  {
   "cell_type": "code",
   "execution_count": null,
   "id": "80495937-77ff-44d7-a139-49219b0a38a4",
   "metadata": {},
   "outputs": [],
   "source": [
    "def generate_and_add_numbers(n: int = 1000):\n",
    "    total = 0\n",
    "    for i in range(n):\n",
    "        total += random.randint(0,1000000)\n",
    "    return total\n",
    "\n",
    "\n",
    "def generate_and_join_letters(n: int = 1000):\n",
    "    letters = ''\n",
    "    for i in range(n):\n",
    "        letters += chr(random.randint(33, 126))\n",
    "        # letters += random.choice(string.ascii_letters + string.digits)\n",
    "    return letters"
   ]
  },
  {
   "cell_type": "code",
   "execution_count": null,
   "id": "f9d84643-cee3-4d38-aff4-f2c96838a15e",
   "metadata": {},
   "outputs": [],
   "source": [
    "print(\"Starting the Program\")\n",
    "total_start_time = time.time()\n",
    "\n",
    "generate_and_add_numbers(int(1e7))\n",
    "generate_and_join_letters(int(1e7))\n",
    "\n",
    "total_end_time = time.time()\n",
    "print(\"Exiting the Program\")\n",
    "sequential_execution_time = total_end_time - total_start_time\n",
    "print(f\"It took {sequential_execution_time}s to execute the tasks.\")"
   ]
  },
  {
   "cell_type": "code",
   "execution_count": null,
   "id": "d449d969-0c92-4901-863d-810e26decd02",
   "metadata": {},
   "outputs": [],
   "source": [
    "print(\"Starting the  thread program\")\n",
    "total_start_time = time.time()\n",
    "\n",
    "thread_numbers = threading.Thread(target=generate_and_add_numbers, args=[int(1e7)])\n",
    "thread_letters = threading.Thread(target=generate_and_join_letters, args=[int(1e7)])\n",
    "\n",
    "thread_numbers.start()\n",
    "thread_letters.start()\n",
    "\n",
    "thread_numbers.join()\n",
    "thread_letters.join()\n",
    "\n",
    "total_end_time = time.time()\n",
    "print(\"Exiting the thread program\")\n",
    "thread_execution_time = total_end_time - total_start_time\n",
    "print(f\"It took {thread_execution_time}s to execute the tasks with thread.\")"
   ]
  },
  {
   "cell_type": "code",
   "execution_count": null,
   "id": "2f9d99a8-8c0e-4358-a52f-e75da9391ae1",
   "metadata": {},
   "outputs": [],
   "source": [
    "print(\"Starting the two threads program for generate numbers\")\n",
    "total_start_time = time.time()\n",
    "\n",
    "thread_numbers = threading.Thread(target=generate_and_add_numbers, args=[int(1e7)])\n",
    "thread_letters = threading.Thread(target=generate_and_add_numbers, args=[int(1e7)])\n",
    "\n",
    "thread_numbers.start()\n",
    "thread_letters.start()\n",
    "\n",
    "thread_numbers.join()\n",
    "thread_letters.join()\n",
    "\n",
    "total_end_time = time.time()\n",
    "print(\"Exiting two threads program for generate numbers\")\n",
    "execution_time = total_end_time - total_start_time\n",
    "print(f\"It took {execution_time}s to execute the tasks with threads.\")"
   ]
  },
  {
   "cell_type": "code",
   "execution_count": null,
   "id": "4a10668b-397c-4df8-9026-376ab14d46e1",
   "metadata": {},
   "outputs": [],
   "source": [
    "print(\"Starting the two threads program for generate letters\")\n",
    "total_start_time = time.time()\n",
    "\n",
    "thread_numbers = threading.Thread(target=generate_and_add_numbers, args=[int(1e7)])\n",
    "thread_letters = threading.Thread(target=generate_and_add_numbers, args=[int(1e7)])\n",
    "\n",
    "thread_numbers.start()\n",
    "thread_letters.start()\n",
    "\n",
    "thread_numbers.join()\n",
    "thread_letters.join()\n",
    "\n",
    "total_end_time = time.time()\n",
    "print(\"Exiting two threads program for generate letters\")\n",
    "execution_time = total_end_time - total_start_time\n",
    "print(f\"It took {execution_time}s to execute the tasks with threads.\")"
   ]
  },
  {
   "cell_type": "code",
   "execution_count": null,
   "id": "ca2c2476-c49e-449d-b6cf-d2d173a2ab40",
   "metadata": {},
   "outputs": [],
   "source": [
    "print(\"Starting the two processs program for generate letters\")\n",
    "total_start_time = time.time()\n",
    "\n",
    "process_numbers = multiprocessing.Process(target=generate_and_add_numbers, args=[int(1e7)])\n",
    "process_letters = multiprocessing.Process(target=generate_and_add_numbers, args=[int(1e7)])\n",
    "\n",
    "process_numbers.start()\n",
    "process_letters.start()\n",
    "\n",
    "process_numbers.join()\n",
    "process_letters.join()\n",
    "\n",
    "total_end_time = time.time()\n",
    "print(\"Exiting two processs program for generate letters\")\n",
    "process_execution_time = total_end_time - total_start_time\n",
    "print(f\"It took {process_execution_time}s to execute the tasks with processs.\")"
   ]
  },
  {
   "cell_type": "code",
   "execution_count": null,
   "id": "6ebedebe-ea89-45f0-a202-f71f958dc5c1",
   "metadata": {},
   "outputs": [],
   "source": [
    "speedup_thread = sequential_execution_time/thread_execution_time\n",
    "speedup_processes = sequential_execution_time/process_execution_time\n",
    "\n",
    "print(f\"The speedup using threads is {speedup_thread}\")\n",
    "print(f\"The speedup using processes is {speedup_processes}\")"
   ]
  },
  {
   "cell_type": "code",
   "execution_count": null,
   "id": "1d0bcb39-92b3-414f-836e-b8c5fedf357c",
   "metadata": {},
   "outputs": [],
   "source": [
    "np = 4\n",
    "efficiency_thread = speedup_thread/np\n",
    "efficiency_processes = speedup_processes/np\n",
    "\n",
    "print(f\"The efficiency using threads is {efficiency_thread}\")\n",
    "print(f\"The efficiency using processes is {efficiency_processes}\")"
   ]
  },
  {
   "cell_type": "code",
   "execution_count": null,
   "id": "1edee065-261a-4354-87ad-5756cd2f06c3",
   "metadata": {},
   "outputs": [],
   "source": [
    "P = 0.99\n",
    "amdhal_s=1/(1-P)\n",
    "print(amdhal_s)"
   ]
  },
  {
   "cell_type": "code",
   "execution_count": null,
   "id": "598b4a44-9923-4a7c-9364-d60034fb5651",
   "metadata": {},
   "outputs": [],
   "source": [
    "alpha = 1-0.99\n",
    "gustafson= np - alpha*(np-1)\n",
    "print(gustafson)\n",
    "\n"
   ]
  }
 ],
 "metadata": {
  "kernelspec": {
   "display_name": "Python 3 (ipykernel)",
   "language": "python",
   "name": "python3"
  },
  "language_info": {
   "codemirror_mode": {
    "name": "ipython",
    "version": 3
   },
   "file_extension": ".py",
   "mimetype": "text/x-python",
   "name": "python",
   "nbconvert_exporter": "python",
   "pygments_lexer": "ipython3",
   "version": "3.12.7"
  }
 },
 "nbformat": 4,
 "nbformat_minor": 5
}
