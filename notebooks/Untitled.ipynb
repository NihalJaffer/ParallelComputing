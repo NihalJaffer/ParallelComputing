{
 "cells": [
  {
   "cell_type": "code",
   "execution_count": 1,
   "id": "cf889a50-9f62-4266-9c71-e4bc3c8b3238",
   "metadata": {},
   "outputs": [
    {
     "name": "stdout",
     "output_type": "stream",
     "text": [
      "Sum: 4999950000\n",
      "Execution Time: 0.002192 seconds\n"
     ]
    }
   ],
   "source": [
    "import time\n",
    "\n",
    "n = 99999\n",
    "start_time = time.time()\n",
    "sum_numbers = sum(range(1, n + 1))\n",
    "end_time = time.time()\n",
    "\n",
    "execution_time = end_time - start_time\n",
    "\n",
    "print(f\"Sum: {sum_numbers}\")\n",
    "print(f\"Execution Time: {execution_time:.6f} seconds\")\n"
   ]
  },
  {
   "cell_type": "code",
   "execution_count": 2,
   "id": "b4aabde2-30e9-42c0-aa15-88376180e735",
   "metadata": {},
   "outputs": [
    {
     "name": "stdout",
     "output_type": "stream",
     "text": [
      "Sum: 4999950000\n",
      "Execution Time with Threading: 0.002597 seconds\n"
     ]
    }
   ],
   "source": [
    "import threading\n",
    "import time\n",
    "\n",
    "def partial_sum(start, end, result, index):\n",
    "    result[index] = sum(range(start, end + 1))\n",
    "\n",
    "n = 99999\n",
    "num_threads = 4  \n",
    "threads = []\n",
    "results = [0] * num_threads  \n",
    "\n",
    "chunk_size = n // num_threads\n",
    "start_time = time.time()\n",
    "\n",
    "for i in range(num_threads):\n",
    "    start = i * chunk_size + 1\n",
    "    end = (i + 1) * chunk_size if i != num_threads - 1 else n\n",
    "    thread = threading.Thread(target=partial_sum, args=(start, end, results, i))\n",
    "    threads.append(thread)\n",
    "    thread.start()\n",
    "\n",
    "for thread in threads:\n",
    "    thread.join()\n",
    "\n",
    "total_sum = sum(results)\n",
    "end_time = time.time()\n",
    "execution_time = end_time - start_time\n",
    "\n",
    "print(f\"Sum: {total_sum}\")\n",
    "print(f\"Execution Time with Threading: {execution_time:.6f} seconds\")\n"
   ]
  },
  {
   "cell_type": "code",
   "execution_count": 3,
   "id": "ff8f8c16-6d44-4a17-ae59-3da8a012f646",
   "metadata": {},
   "outputs": [
    {
     "name": "stdout",
     "output_type": "stream",
     "text": [
      "Sum: 4999950000\n",
      "Execution Time with Multiprocessing: 0.018226 seconds\n"
     ]
    }
   ],
   "source": [
    "import multiprocessing\n",
    "import time\n",
    "\n",
    "def partial_sum(start, end, queue):\n",
    "    queue.put(sum(range(start, end + 1)))\n",
    "\n",
    "n = 99999\n",
    "num_processes = 4  \n",
    "processes = []\n",
    "queue = multiprocessing.Queue()  \n",
    "\n",
    "\n",
    "chunk_size = n // num_processes\n",
    "start_time = time.time()\n",
    "\n",
    "for i in range(num_processes):\n",
    "    start = i * chunk_size + 1\n",
    "    end = (i + 1) * chunk_size if i != num_processes - 1 else n\n",
    "    process = multiprocessing.Process(target=partial_sum, args=(start, end, queue))\n",
    "    processes.append(process)\n",
    "    process.start()\n",
    "\n",
    "\n",
    "for process in processes:\n",
    "    process.join()\n",
    "\n",
    "total_sum = sum(queue.get() for _ in range(num_processes))\n",
    "end_time = time.time()\n",
    "execution_time = end_time - start_time\n",
    "\n",
    "\n",
    "print(f\"Sum: {total_sum}\")\n",
    "print(f\"Execution Time with Multiprocessing: {execution_time:.6f} seconds\")\n"
   ]
  },
  {
   "cell_type": "code",
   "execution_count": null,
   "id": "5acc906e-b05f-4029-811c-811f124eeabb",
   "metadata": {},
   "outputs": [],
   "source": []
  }
 ],
 "metadata": {
  "kernelspec": {
   "display_name": "Python 3 (ipykernel)",
   "language": "python",
   "name": "python3"
  },
  "language_info": {
   "codemirror_mode": {
    "name": "ipython",
    "version": 3
   },
   "file_extension": ".py",
   "mimetype": "text/x-python",
   "name": "python",
   "nbconvert_exporter": "python",
   "pygments_lexer": "ipython3",
   "version": "3.12.2"
  }
 },
 "nbformat": 4,
 "nbformat_minor": 5
}
